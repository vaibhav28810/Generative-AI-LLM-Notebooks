{
  "cells": [
    {
      "cell_type": "markdown",
      "metadata": {
        "id": "FihsegMg-D4z"
      },
      "source": [
        "Below we are loading the necessary libraries, utilities, and configurations."
      ]
    },
    {
      "cell_type": "code",
      "execution_count": 1,
      "metadata": {
        "id": "Ylo2B-sm-D4z"
      },
      "outputs": [],
      "source": [
        "%%capture\n",
        "# update or install the necessary libraries\n",
        "!pip install --upgrade openai langchain python-dotenv"
      ]
    },
    {
      "cell_type": "code",
      "execution_count": 2,
      "metadata": {
        "id": "RU3wSiD2-D40"
      },
      "outputs": [],
      "source": [
        "import openai\n",
        "import os\n",
        "import IPython\n",
        "from langchain.llms import OpenAI\n",
        "from dotenv import load_dotenv"
      ]
    },
    {
      "cell_type": "markdown",
      "metadata": {
        "id": "i0XaPjHf-D40"
      },
      "source": [
        "Load environment variables (using .env file)"
      ]
    },
    {
      "cell_type": "code",
      "execution_count": 12,
      "metadata": {
        "id": "hK9IpPns-D40"
      },
      "outputs": [],
      "source": [
        "load_dotenv()\n",
        "\n",
        "# API configuration\n",
        "openai.api_key = os.getenv(\"OPENAI_API_KEY\")\n",
        "\n",
        "# for LangChain\n",
        "os.environ[\"OPENAI_API_KEY\"] = os.getenv(\"OPENAI_API_KEY\")\n"
      ]
    },
    {
      "cell_type": "code",
      "execution_count": 13,
      "metadata": {
        "id": "Pa3iGiSe-D41"
      },
      "outputs": [],
      "source": [
        "def set_open_params(\n",
        "    model=\"gpt-3.5-turbo\",\n",
        "    temperature=0.7,\n",
        "    max_tokens=256,\n",
        "    top_p=1,\n",
        "    frequency_penalty=0,\n",
        "    presence_penalty=0,\n",
        "):\n",
        "    \"\"\" set openai parameters\"\"\"\n",
        "\n",
        "    openai_params = {}\n",
        "\n",
        "    openai_params['model'] = model\n",
        "    openai_params['temperature'] = temperature\n",
        "    openai_params['max_tokens'] = max_tokens\n",
        "    openai_params['top_p'] = top_p\n",
        "    openai_params['frequency_penalty'] = frequency_penalty\n",
        "    openai_params['presence_penalty'] = presence_penalty\n",
        "    return openai_params\n",
        "\n",
        "def get_completion(params, messages):\n",
        "    \"\"\" GET completion from openai api\"\"\"\n",
        "\n",
        "    response = openai.chat.completions.create(\n",
        "        model = params['model'],\n",
        "        messages = messages,\n",
        "        temperature = params['temperature'],\n",
        "        max_tokens = params['max_tokens'],\n",
        "        top_p = params['top_p'],\n",
        "        frequency_penalty = params['frequency_penalty'],\n",
        "        presence_penalty = params['presence_penalty'],\n",
        "    )\n",
        "    return response"
      ]
    },
    {
      "cell_type": "markdown",
      "metadata": {
        "id": "HIZECxzv-D41"
      },
      "source": [
        "Basic prompt example:"
      ]
    },
    {
      "cell_type": "code",
      "execution_count": 30,
      "metadata": {
        "id": "iY_-5cnS-D41"
      },
      "outputs": [],
      "source": [
        "# basic example\n",
        "params = set_open_params()\n",
        "\n",
        "prompt = \"The ocean is\"\n",
        "\n",
        "messages = [\n",
        "    {\n",
        "        \"role\": \"user\",\n",
        "        \"content\": prompt\n",
        "    }\n",
        "]\n",
        "\n",
        "response = get_completion(params, messages)"
      ]
    },
    {
      "cell_type": "code",
      "execution_count": 31,
      "metadata": {
        "colab": {
          "base_uri": "https://localhost:8080/",
          "height": 107
        },
        "id": "LbwKQw2B-D41",
        "outputId": "1679eab9-b518-492c-99f5-f0f4979a456d"
      },
      "outputs": [
        {
          "data": {
            "text/plain": [
              "\" vast and mysterious, teeming with life and energy. It covers over 70% of the Earth's surface and plays a crucial role in regulating our planet's climate and weather patterns. From the smallest plankton to the largest whales, the ocean is home to a diverse array of creatures that have adapted to its harsh and ever-changing conditions. Its depths hold secrets yet to be discovered, and its waves hold endless possibilities for exploration and adventure. The ocean is a source of inspiration, wonder, and awe, reminding us of the beauty and power of the natural world.\""
            ]
          },
          "execution_count": 31,
          "metadata": {},
          "output_type": "execute_result"
        }
      ],
      "source": [
        "response.choices[0].message.content"
      ]
    },
    {
      "cell_type": "markdown",
      "metadata": {
        "id": "t_1VlGDe-D42"
      },
      "source": [
        "Try with different temperature to compare results:"
      ]
    },
    {
      "cell_type": "code",
      "execution_count": 32,
      "metadata": {
        "colab": {
          "base_uri": "https://localhost:8080/",
          "height": 46
        },
        "id": "qLNTNacV-D42",
        "outputId": "4a49dc5f-fb88-44b8-ef78-5cf601fd9456"
      },
      "outputs": [
        {
          "data": {
            "text/markdown": [
              " vast and mysterious, with depths that have yet to be fully explored. It is home to a diverse array of marine life, from tiny plankton to massive whales. The ocean plays a crucial role in regulating the Earth's climate and providing oxygen for all living creatures. Its beauty and power have inspired awe and wonder in humans for centuries. But the ocean is also facing numerous threats, including pollution, overfishing, and climate change. It is up to us to protect and preserve this precious resource for future generations."
            ],
            "text/plain": [
              "<IPython.core.display.Markdown object>"
            ]
          },
          "execution_count": 32,
          "metadata": {},
          "output_type": "execute_result"
        }
      ],
      "source": [
        "params = set_open_params(temperature=0)\n",
        "response = get_completion(params, messages)\n",
        "IPython.display.Markdown(response.choices[0].message.content)"
      ]
    },
    {
      "cell_type": "markdown",
      "metadata": {
        "id": "rdi_QxKR-D42"
      },
      "source": [
        "### Question Answering"
      ]
    },
    {
      "cell_type": "code",
      "execution_count": 33,
      "metadata": {
        "colab": {
          "base_uri": "https://localhost:8080/",
          "height": 46
        },
        "id": "HeioQXr5-D42",
        "outputId": "d2bbb84d-0458-4672-c328-9d995686796e"
      },
      "outputs": [
        {
          "data": {
            "text/markdown": [
              "Bruce Wayne"
            ],
            "text/plain": [
              "<IPython.core.display.Markdown object>"
            ]
          },
          "execution_count": 33,
          "metadata": {},
          "output_type": "execute_result"
        }
      ],
      "source": [
        "prompt = \"\"\"Answer the question based on the context below. Keep the answer short and concise. Respond \"Unsure about answer\" if not sure about the answer.\n",
        "\n",
        "Context: Bane enlists businessman John Daggett to buy Bruce's fingerprints. \\\n",
        "Cat burglar Selina Kyle steals Bruce's prints from Wayne Manor for Daggett, \\\n",
        "but he double-crosses her and she alerts the police, who pursue Bane and Daggett's \\\n",
        "henchmen into the sewers while Kyle flees. The henchmen capture Gordon and take \\\n",
        "him to Bane, but he escapes and is found by Officer John Blake, \\\n",
        "an orphan who has deduced Bruce's secret identity and persuades him to \\\n",
        "resume his vigilantism. Bane attacks the Gotham Stock Exchange and uses Bruce's \\\n",
        "fingerprints to verify a series of fraudulent transactions, leaving Bruce bankrupt. \\\n",
        "Batman resurfaces to pursue Bane's henchmen. Afraid Bruce will get himself \\\n",
        "killed fighting Bane, his butler, Alfred Pennyworth, resigns in the hope of saving \\\n",
        "him after admitting to burning a letter that Rachel left for him saying \\\n",
        "she was going to marry Dent. \n",
        "\n",
        "Question: Who is batman?\n",
        "\n",
        "Answer:\"\"\"\n",
        "\n",
        "messages = [\n",
        "    {\n",
        "        \"role\": \"user\",\n",
        "        \"content\": prompt\n",
        "    }\n",
        "]\n",
        "\n",
        "response = get_completion(params, messages)\n",
        "IPython.display.Markdown(response.choices[0].message.content)\n"
      ]
    },
    {
      "cell_type": "markdown",
      "metadata": {
        "id": "YpOadsQi-D43"
      },
      "source": [
        "### Text Classification"
      ]
    },
    {
      "cell_type": "code",
      "execution_count": 34,
      "metadata": {
        "colab": {
          "base_uri": "https://localhost:8080/",
          "height": 46
        },
        "id": "mPwONkcp-D43",
        "outputId": "328e3630-9435-4ae7-b0d0-78f03c6c96e2"
      },
      "outputs": [
        {
          "data": {
            "text/markdown": [
              "Positive"
            ],
            "text/plain": [
              "<IPython.core.display.Markdown object>"
            ]
          },
          "execution_count": 34,
          "metadata": {},
          "output_type": "execute_result"
        }
      ],
      "source": [
        "prompt = \"\"\"Classify the text into neutral, negative or positive.\n",
        "\n",
        "Text: I think the movie was awesome. \n",
        "\n",
        "Sentiment:\"\"\"\n",
        "\n",
        "messages = [\n",
        "    {\n",
        "        \"role\": \"user\",\n",
        "        \"content\": prompt\n",
        "    }\n",
        "]\n",
        "\n",
        "response = get_completion(params, messages)\n",
        "IPython.display.Markdown(response.choices[0].message.content)"
      ]
    },
    {
      "cell_type": "markdown",
      "metadata": {
        "id": "C9WaiM01-D43"
      },
      "source": [
        "### Role Playing"
      ]
    },
    {
      "cell_type": "code",
      "execution_count": 35,
      "metadata": {
        "colab": {
          "base_uri": "https://localhost:8080/",
          "height": 133
        },
        "id": "fVAj1uvC-D43",
        "outputId": "3ec2e8ad-4376-4133-c5d6-23b2cdb6cf3a"
      },
      "outputs": [
        {
          "data": {
            "text/markdown": [
              "Ah, adventure movies, the perfect escape from reality! Some of the best in the genre include classics like \"Indiana Jones,\" \"The Lord of the Rings,\" and \"Pirates of the Caribbean.\" If you're looking for something more recent, \"Mad Max: Fury Road\" and \"The Revenant\" are also great choices. So grab your popcorn and get ready for a wild ride!"
            ],
            "text/plain": [
              "<IPython.core.display.Markdown object>"
            ]
          },
          "execution_count": 35,
          "metadata": {},
          "output_type": "execute_result"
        }
      ],
      "source": [
        "prompt = \"\"\"The following is a conversation with an Movie Recommender AI. The assistant tone is humorous.\n",
        "\n",
        "Human: Hello, who are you?\n",
        "AI: Greeting! I am a Movie Recommender AI. How can I help you today?\n",
        "Human: Can you tell me about the best movies in Adventure Genre?\n",
        "AI:\"\"\"\n",
        "\n",
        "messages = [\n",
        "    {\n",
        "        \"role\": \"user\",\n",
        "        \"content\": prompt\n",
        "    }\n",
        "]\n",
        "\n",
        "messages = [\n",
        "    {\n",
        "        \"role\": \"user\",\n",
        "        \"content\": prompt\n",
        "    }\n",
        "\n",
        "]\n",
        "\n",
        "response = get_completion(params, messages)\n",
        "IPython.display.Markdown(response.choices[0].message.content)"
      ]
    },
    {
      "cell_type": "markdown",
      "metadata": {
        "id": "zFoZd5tZ-D43"
      },
      "source": [
        "### Code Generation"
      ]
    },
    {
      "cell_type": "code",
      "execution_count": 21,
      "metadata": {
        "colab": {
          "base_uri": "https://localhost:8080/",
          "height": 81
        },
        "id": "GRcjuC_5-D43",
        "outputId": "72c85fbc-20ec-4167-851e-1a9c879b5455"
      },
      "outputs": [
        {
          "data": {
            "text/markdown": [
              "SELECT s.StudentId, s.StudentName\n",
              "FROM students s\n",
              "JOIN departments d ON s.DepartmentId = d.DepartmentId\n",
              "WHERE d.DepartmentName = 'Computer Science';"
            ],
            "text/plain": [
              "<IPython.core.display.Markdown object>"
            ]
          },
          "execution_count": 21,
          "metadata": {},
          "output_type": "execute_result"
        }
      ],
      "source": [
        "prompt = \"\\\"\\\"\\\"\\nTable departments, columns = [DepartmentId, DepartmentName]\\nTable students, columns = [DepartmentId, StudentId, StudentName]\\nCreate a MySQL query for all students in the Computer Science Department\\n\\\"\\\"\\\"\"\n",
        "\n",
        "messages = [\n",
        "    {\n",
        "        \"role\": \"user\",\n",
        "        \"content\": prompt\n",
        "    }\n",
        "]\n",
        "\n",
        "response = get_completion(params, messages)\n",
        "IPython.display.Markdown(response.choices[0].message.content)\n"
      ]
    },
    {
      "cell_type": "markdown",
      "metadata": {
        "id": "9bbCDrms-D43"
      },
      "source": [
        "### Reasoning"
      ]
    },
    {
      "cell_type": "code",
      "execution_count": 22,
      "metadata": {
        "colab": {
          "base_uri": "https://localhost:8080/",
          "height": 93
        },
        "id": "jKh3uvA_-D43",
        "outputId": "eb50a309-9f3f-4273-a373-f55e643b9eb5"
      },
      "outputs": [
        {
          "data": {
            "text/markdown": [
              "The odd numbers in the group are 15, 5, 13, 7, and 1.\n",
              "\n",
              "Adding them together: 15 + 5 + 13 + 7 + 1 = 41.\n",
              "\n",
              "Since 41 is an odd number, the sum of the odd numbers in the group is odd."
            ],
            "text/plain": [
              "<IPython.core.display.Markdown object>"
            ]
          },
          "execution_count": 22,
          "metadata": {},
          "output_type": "execute_result"
        }
      ],
      "source": [
        "prompt = \"\"\"The odd numbers in this group add up to an even number: 15, 32, 5, 13, 82, 7, 1.\n",
        "\n",
        "Solve by breaking the problem into steps. First, identify the odd numbers, add them, and indicate whether the result is odd or even.\"\"\"\n",
        "\n",
        "messages = [\n",
        "    {\n",
        "        \"role\": \"user\",\n",
        "        \"content\": prompt\n",
        "    }\n",
        "]\n",
        "\n",
        "response = get_completion(params, messages)\n",
        "IPython.display.Markdown(response.choices[0].message.content)"
      ]
    },
    {
      "cell_type": "markdown",
      "metadata": {
        "id": "t1lHeSWs-D44"
      },
      "source": [
        "## Advanced Prompting Techniques\n"
      ]
    },
    {
      "cell_type": "markdown",
      "metadata": {
        "id": "MsMdHN04-D44"
      },
      "source": [
        "### Few-shot prompts"
      ]
    },
    {
      "cell_type": "code",
      "execution_count": 23,
      "metadata": {
        "colab": {
          "base_uri": "https://localhost:8080/",
          "height": 46
        },
        "id": "r905l3So-D44",
        "outputId": "5d256ce6-a67c-46dd-cbdb-001d814b9409"
      },
      "outputs": [
        {
          "data": {
            "text/markdown": [
              "The answer is False."
            ],
            "text/plain": [
              "<IPython.core.display.Markdown object>"
            ]
          },
          "execution_count": 23,
          "metadata": {},
          "output_type": "execute_result"
        }
      ],
      "source": [
        "prompt = \"\"\"The odd numbers in this group add up to an even number: 4, 8, 9, 15, 12, 2, 1.\n",
        "A: The answer is False.\n",
        "\n",
        "The odd numbers in this group add up to an even number: 17,  10, 19, 4, 8, 12, 24.\n",
        "A: The answer is True.\n",
        "\n",
        "The odd numbers in this group add up to an even number: 16,  11, 14, 4, 8, 13, 24.\n",
        "A: The answer is True.\n",
        "\n",
        "The odd numbers in this group add up to an even number: 17,  9, 10, 12, 13, 4, 2.\n",
        "A: The answer is False.\n",
        "\n",
        "The odd numbers in this group add up to an even number: 15, 32, 5, 13, 82, 7, 1.\n",
        "A:\"\"\"\n",
        "\n",
        "messages = [\n",
        "    {\n",
        "        \"role\": \"user\",\n",
        "        \"content\": prompt\n",
        "    }\n",
        "]\n",
        "\n",
        "response = get_completion(params, messages)\n",
        "IPython.display.Markdown(response.choices[0].message.content)"
      ]
    },
    {
      "cell_type": "markdown",
      "metadata": {
        "id": "TYiZDot2-D44"
      },
      "source": [
        "### Chain-of-Thought (CoT) Prompting"
      ]
    },
    {
      "cell_type": "code",
      "execution_count": 24,
      "metadata": {
        "colab": {
          "base_uri": "https://localhost:8080/",
          "height": 46
        },
        "id": "8M4BmB91-D44",
        "outputId": "3dca17c8-0727-469a-a9b4-3f57038a999d"
      },
      "outputs": [
        {
          "data": {
            "text/markdown": [
              "Adding all the odd numbers (15, 5, 13, 7, 1) gives 41. The answer is False."
            ],
            "text/plain": [
              "<IPython.core.display.Markdown object>"
            ]
          },
          "execution_count": 24,
          "metadata": {},
          "output_type": "execute_result"
        }
      ],
      "source": [
        "prompt = \"\"\"The odd numbers in this group add up to an even number: 4, 8, 9, 15, 12, 2, 1.\n",
        "A: Adding all the odd numbers (9, 15, 1) gives 25. The answer is False.\n",
        "\n",
        "The odd numbers in this group add up to an even number: 15, 32, 5, 13, 82, 7, 1.\n",
        "A:\"\"\"\n",
        "\n",
        "messages = [\n",
        "    {\n",
        "        \"role\": \"user\",\n",
        "        \"content\": prompt\n",
        "    }\n",
        "]\n",
        "\n",
        "response = get_completion(params, messages)\n",
        "IPython.display.Markdown(response.choices[0].message.content)"
      ]
    },
    {
      "cell_type": "markdown",
      "metadata": {
        "id": "Tlid9GAm-D44"
      },
      "source": [
        "### Zero-shot CoT"
      ]
    },
    {
      "cell_type": "code",
      "execution_count": 25,
      "metadata": {
        "colab": {
          "base_uri": "https://localhost:8080/",
          "height": 81
        },
        "id": "sUYu9FtX-D44",
        "outputId": "0af16197-9366-4b3e-f7fd-c045a7f0b295"
      },
      "outputs": [
        {
          "data": {
            "text/markdown": [
              "You started with 10 apples. \n",
              "You gave 2 to the neighbor and 2 to the repairman, so you are left with 10 - 2 - 2 = 6 apples. \n",
              "Then you bought 5 more apples, so you now have 6 + 5 = 11 apples. \n",
              "Lastly, you ate 1 apple, so you are left with 11 - 1 = 10 apples. \n",
              "\n",
              "So, you remained with 10 apples."
            ],
            "text/plain": [
              "<IPython.core.display.Markdown object>"
            ]
          },
          "execution_count": 25,
          "metadata": {},
          "output_type": "execute_result"
        }
      ],
      "source": [
        "prompt = \"\"\"I went to the market and bought 10 apples. I gave 2 apples to the neighbor and 2 to the repairman. I then went and bought 5 more apples and ate 1. How many apples did I remain with?\n",
        "\n",
        "Let's think step by step.\"\"\"\n",
        "\n",
        "messages = [\n",
        "    {\n",
        "        \"role\": \"user\",\n",
        "        \"content\": prompt\n",
        "    }\n",
        "]\n",
        "\n",
        "response = get_completion(params, messages)\n",
        "IPython.display.Markdown(response.choices[0].message.content)"
      ]
    },
    {
      "cell_type": "markdown",
      "metadata": {
        "id": "r4pFPO7z-D48"
      },
      "source": [
        "---"
      ]
    }
  ],
  "metadata": {
    "colab": {
      "provenance": []
    },
    "kernelspec": {
      "display_name": "promptlecture",
      "language": "python",
      "name": "python3"
    },
    "language_info": {
      "codemirror_mode": {
        "name": "ipython",
        "version": 3
      },
      "file_extension": ".py",
      "mimetype": "text/x-python",
      "name": "python",
      "nbconvert_exporter": "python",
      "pygments_lexer": "ipython3",
      "version": "3.11.6"
    },
    "orig_nbformat": 4,
    "vscode": {
      "interpreter": {
        "hash": "f38e0373277d6f71ee44ee8fea5f1d408ad6999fda15d538a69a99a1665a839d"
      }
    }
  },
  "nbformat": 4,
  "nbformat_minor": 0
}
